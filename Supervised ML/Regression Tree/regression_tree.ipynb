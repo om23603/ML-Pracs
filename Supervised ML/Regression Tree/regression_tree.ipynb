{
 "cells": [
  {
   "cell_type": "code",
   "execution_count": 2,
   "id": "6973f931",
   "metadata": {},
   "outputs": [],
   "source": [
    "import pandas as pd\n",
    "\n",
    "from sklearn.model_selection import train_test_split\n",
    "from sklearn.preprocessing import normalize\n",
    "from sklearn.metrics import mean_squared_error\n",
    "from sklearn.tree import DecisionTreeRegressor\n",
    "\n",
    "import warnings\n",
    "warnings.filterwarnings('ignore')"
   ]
  },
  {
   "cell_type": "code",
   "execution_count": 3,
   "id": "67409726",
   "metadata": {},
   "outputs": [
    {
     "data": {
      "text/html": [
       "<div>\n",
       "<style scoped>\n",
       "    .dataframe tbody tr th:only-of-type {\n",
       "        vertical-align: middle;\n",
       "    }\n",
       "\n",
       "    .dataframe tbody tr th {\n",
       "        vertical-align: top;\n",
       "    }\n",
       "\n",
       "    .dataframe thead th {\n",
       "        text-align: right;\n",
       "    }\n",
       "</style>\n",
       "<table border=\"1\" class=\"dataframe\">\n",
       "  <thead>\n",
       "    <tr style=\"text-align: right;\">\n",
       "      <th></th>\n",
       "      <th>VendorID</th>\n",
       "      <th>passenger_count</th>\n",
       "      <th>trip_distance</th>\n",
       "      <th>RatecodeID</th>\n",
       "      <th>store_and_fwd_flag</th>\n",
       "      <th>PULocationID</th>\n",
       "      <th>DOLocationID</th>\n",
       "      <th>payment_type</th>\n",
       "      <th>fare_amount</th>\n",
       "      <th>mta_tax</th>\n",
       "      <th>tolls_amount</th>\n",
       "      <th>improvement_surcharge</th>\n",
       "      <th>tip_amount</th>\n",
       "    </tr>\n",
       "  </thead>\n",
       "  <tbody>\n",
       "    <tr>\n",
       "      <th>0</th>\n",
       "      <td>2</td>\n",
       "      <td>1</td>\n",
       "      <td>17.63</td>\n",
       "      <td>2</td>\n",
       "      <td>1</td>\n",
       "      <td>132</td>\n",
       "      <td>164</td>\n",
       "      <td>1</td>\n",
       "      <td>70.0</td>\n",
       "      <td>0.5</td>\n",
       "      <td>6.94</td>\n",
       "      <td>1</td>\n",
       "      <td>16.54</td>\n",
       "    </tr>\n",
       "    <tr>\n",
       "      <th>1</th>\n",
       "      <td>2</td>\n",
       "      <td>1</td>\n",
       "      <td>19.52</td>\n",
       "      <td>2</td>\n",
       "      <td>1</td>\n",
       "      <td>132</td>\n",
       "      <td>236</td>\n",
       "      <td>1</td>\n",
       "      <td>70.0</td>\n",
       "      <td>0.5</td>\n",
       "      <td>6.94</td>\n",
       "      <td>1</td>\n",
       "      <td>16.19</td>\n",
       "    </tr>\n",
       "    <tr>\n",
       "      <th>2</th>\n",
       "      <td>2</td>\n",
       "      <td>1</td>\n",
       "      <td>17.81</td>\n",
       "      <td>2</td>\n",
       "      <td>1</td>\n",
       "      <td>132</td>\n",
       "      <td>48</td>\n",
       "      <td>1</td>\n",
       "      <td>70.0</td>\n",
       "      <td>0.5</td>\n",
       "      <td>6.94</td>\n",
       "      <td>1</td>\n",
       "      <td>12.00</td>\n",
       "    </tr>\n",
       "    <tr>\n",
       "      <th>3</th>\n",
       "      <td>2</td>\n",
       "      <td>2</td>\n",
       "      <td>19.30</td>\n",
       "      <td>2</td>\n",
       "      <td>1</td>\n",
       "      <td>132</td>\n",
       "      <td>148</td>\n",
       "      <td>1</td>\n",
       "      <td>70.0</td>\n",
       "      <td>0.5</td>\n",
       "      <td>0.00</td>\n",
       "      <td>1</td>\n",
       "      <td>5.00</td>\n",
       "    </tr>\n",
       "    <tr>\n",
       "      <th>4</th>\n",
       "      <td>2</td>\n",
       "      <td>1</td>\n",
       "      <td>18.75</td>\n",
       "      <td>2</td>\n",
       "      <td>1</td>\n",
       "      <td>132</td>\n",
       "      <td>234</td>\n",
       "      <td>1</td>\n",
       "      <td>70.0</td>\n",
       "      <td>0.5</td>\n",
       "      <td>6.94</td>\n",
       "      <td>1</td>\n",
       "      <td>10.00</td>\n",
       "    </tr>\n",
       "  </tbody>\n",
       "</table>\n",
       "</div>"
      ],
      "text/plain": [
       "   VendorID  passenger_count  trip_distance  RatecodeID  store_and_fwd_flag  \\\n",
       "0         2                1          17.63           2                   1   \n",
       "1         2                1          19.52           2                   1   \n",
       "2         2                1          17.81           2                   1   \n",
       "3         2                2          19.30           2                   1   \n",
       "4         2                1          18.75           2                   1   \n",
       "\n",
       "   PULocationID  DOLocationID  payment_type  fare_amount  mta_tax  \\\n",
       "0           132           164             1         70.0      0.5   \n",
       "1           132           236             1         70.0      0.5   \n",
       "2           132            48             1         70.0      0.5   \n",
       "3           132           148             1         70.0      0.5   \n",
       "4           132           234             1         70.0      0.5   \n",
       "\n",
       "   tolls_amount  improvement_surcharge  tip_amount  \n",
       "0          6.94                      1       16.54  \n",
       "1          6.94                      1       16.19  \n",
       "2          6.94                      1       12.00  \n",
       "3          0.00                      1        5.00  \n",
       "4          6.94                      1       10.00  "
      ]
     },
     "execution_count": 3,
     "metadata": {},
     "output_type": "execute_result"
    }
   ],
   "source": [
    "# read the input data\n",
    "url = 'https://cf-courses-data.s3.us.cloud-object-storage.appdomain.cloud/pu9kbeSaAtRZ7RxdJKX9_A/yellow-tripdata.csv'\n",
    "df = pd.read_csv(url)\n",
    "df.head()"
   ]
  },
  {
   "cell_type": "code",
   "execution_count": 4,
   "id": "cd673804",
   "metadata": {},
   "outputs": [
    {
     "data": {
      "text/plain": [
       "<Axes: >"
      ]
     },
     "execution_count": 4,
     "metadata": {},
     "output_type": "execute_result"
    },
    {
     "data": {
      "image/png": "[encoded data removed]",
      "text/plain": [
       "<Figure size 1000x600 with 1 Axes>"
      ]
     },
     "metadata": {},
     "output_type": "display_data"
    }
   ],
   "source": [
    "corr_values = df.corr()['tip_amount'].drop('tip_amount')\n",
    "corr_values.plot(kind='barh', figsize=(10, 6))"
   ]
  },
  {
   "cell_type": "code",
   "execution_count": 5,
   "id": "07c6baf2",
   "metadata": {},
   "outputs": [
    {
     "data": {
      "text/plain": [
       "VendorID                   int64\n",
       "passenger_count            int64\n",
       "trip_distance            float64\n",
       "RatecodeID                 int64\n",
       "store_and_fwd_flag         int64\n",
       "PULocationID               int64\n",
       "DOLocationID               int64\n",
       "payment_type               int64\n",
       "fare_amount              float64\n",
       "mta_tax                  float64\n",
       "tolls_amount             float64\n",
       "improvement_surcharge      int64\n",
       "tip_amount               float64\n",
       "dtype: object"
      ]
     },
     "execution_count": 5,
     "metadata": {},
     "output_type": "execute_result"
    }
   ],
   "source": [
    "df.dtypes"
   ]
  },
  {
   "cell_type": "code",
   "execution_count": 6,
   "id": "741f369c",
   "metadata": {},
   "outputs": [],
   "source": [
    "y = df['tip_amount'].values.astype('float')\n",
    "\n",
    "x_val = df.drop(['tip_amount'], axis=1)\n",
    "\n",
    "X = x_val.values\n",
    "X = normalize(X, axis=1, norm='l1', copy=False)"
   ]
  },
  {
   "cell_type": "code",
   "execution_count": 7,
   "id": "0d3430fc",
   "metadata": {},
   "outputs": [],
   "source": [
    "X_train, X_test, y_train, y_test = train_test_split(X, y, test_size=0.3, random_state=42)"
   ]
  },
  {
   "cell_type": "code",
   "execution_count": 8,
   "id": "f6f292ac",
   "metadata": {},
   "outputs": [
    {
     "name": "stdout",
     "output_type": "stream",
     "text": [
      "MSE Score: 24.55\n",
      "R^2 Score: 0.03\n"
     ]
    }
   ],
   "source": [
    "dt_reg = DecisionTreeRegressor(criterion='squared_error', max_depth=8, random_state=35)\n",
    "dt_reg.fit(X_train, y_train)\n",
    "\n",
    "y_pred = dt_reg.predict(X_test)\n",
    "\n",
    "mse_score = mean_squared_error(y_test, y_pred)\n",
    "print(\"MSE Score: %.2f\" % mse_score)\n",
    "\n",
    "r2_score = dt_reg.score(X_test, y_test)\n",
    "print(\"R^2 Score: %.2f\" % r2_score)"
   ]
  },
  {
   "cell_type": "code",
   "execution_count": 9,
   "id": "b70f45da",
   "metadata": {},
   "outputs": [
    {
     "name": "stdout",
     "output_type": "stream",
     "text": [
      "MSE Score: 26.51\n",
      "R^2 Score: -0.05\n"
     ]
    }
   ],
   "source": [
    "dt_reg1 = DecisionTreeRegressor(criterion='squared_error', max_depth=12, random_state=35)\n",
    "dt_reg1.fit(X_train, y_train)\n",
    "\n",
    "y_pred1 = dt_reg1.predict(X_test)\n",
    "\n",
    "mse_score1 = mean_squared_error(y_test, y_pred1)\n",
    "print(\"MSE Score: %.2f\" % mse_score1)\n",
    "\n",
    "r2_score1 = dt_reg1.score(X_test, y_test)\n",
    "print(\"R^2 Score: %.2f\" % r2_score1)"
   ]
  },
  {
   "cell_type": "code",
   "execution_count": 10,
   "id": "d6414fe1",
   "metadata": {},
   "outputs": [
    {
     "data": {
      "text/plain": [
       "<Axes: >"
      ]
     },
     "execution_count": 10,
     "metadata": {},
     "output_type": "execute_result"
    },
    {
     "data": {
      "image/png": "[encoded data removed]",
      "text/plain": [
       "<Figure size 800x300 with 1 Axes>"
      ]
     },
     "metadata": {},
     "output_type": "display_data"
    }
   ],
   "source": [
    "corr_values1 = df.corr()['tip_amount'].drop('tip_amount')\n",
    "abs(corr_values1).sort_values(ascending=False)[:3].plot(kind='barh', figsize=(8, 3))"
   ]
  },
  {
   "cell_type": "code",
   "execution_count": 11,
   "id": "a0273605",
   "metadata": {},
   "outputs": [
    {
     "name": "stdout",
     "output_type": "stream",
     "text": [
      "MSE Score: 24.47\n",
      "R^2 Score: 0.03\n"
     ]
    }
   ],
   "source": [
    "y = df['tip_amount'].values.astype('float')\n",
    "\n",
    "x_val = df[['tolls_amount', 'mta_tax', 'fare_amount', 'DOLocationID', 'PULocationID', 'RatecodeID', 'trip_distance', 'passenger_count']]\n",
    "\n",
    "X = x_val.values\n",
    "X = normalize(X, axis=1, norm='l1', copy=False)\n",
    "\n",
    "X_train, X_test, y_train, y_test = train_test_split(X, y, test_size=0.3, random_state=42)\n",
    "\n",
    "dt_reg1 = DecisionTreeRegressor(criterion='squared_error', max_depth=4, random_state=35)\n",
    "dt_reg1.fit(X_train, y_train)\n",
    "\n",
    "y_pred1 = dt_reg1.predict(X_test)\n",
    "\n",
    "mse_score1 = mean_squared_error(y_test, y_pred1)\n",
    "print(\"MSE Score: %.2f\" % mse_score1)\n",
    "\n",
    "r2_score1 = dt_reg1.score(X_test, y_test)\n",
    "print(\"R^2 Score: %.2f\" % r2_score1)"
   ]
  }
 ],
 "metadata": {
  "kernelspec": {
   "display_name": "Python 3",
   "language": "python",
   "name": "python3"
  },
  "language_info": {
   "codemirror_mode": {
    "name": "ipython",
    "version": 3
   },
   "file_extension": ".py",
   "mimetype": "text/x-python",
   "name": "python",
   "nbconvert_exporter": "python",
   "pygments_lexer": "ipython3",
   "version": "3.12.3"
  }
 },
 "nbformat": 4,
 "nbformat_minor": 5
}
